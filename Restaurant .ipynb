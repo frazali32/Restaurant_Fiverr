{
 "cells": [
  {
   "cell_type": "markdown",
   "metadata": {},
   "source": [
    "# RESTAURANTS\n",
    "\n",
    "We are given a dataset of a Restaurant. the information about its independent and dependent variables are given below. Our task is to viusalize and analyze the key drivers of profit for this firm.\n",
    "\n",
    "|  Variables       | Description                                                          |        \n",
    "|------------------|---------                                                             |\n",
    "| People           | Each day how many people had meals there.                            |\n",
    "| Price of beef    | the price for the beef in the kitchen, Kr/Kg                         |\n",
    "| Price of Potato  | the price for the potatoes in the kitchen, Kr/Kg.                    |\n",
    "| Sunshine_index   |  the weather condition. If sunshine_index is high, the possibility of people of going to beaches increases.                                                               |\n",
    "| Sample           | the cost for the sample free food each day, Kr                       |\n",
    "| \tMarketing      | the fee for the food ordering platform each day, Kr.                 |\n",
    "|Profit | Each day the profit, thousand Kr, i.e., KKr.                                    |"
   ]
  },
  {
   "cell_type": "markdown",
   "metadata": {},
   "source": [
    "Let's import the packages we are going to need for this task."
   ]
  },
  {
   "cell_type": "code",
   "execution_count": 2,
   "metadata": {},
   "outputs": [],
   "source": [
    "import pandas as pd\n",
    "import itertools\n",
    "import numpy as np\n",
    "import seaborn as sns\n",
    "import matplotlib.pyplot as plt\n",
    "from matplotlib.ticker import NullFormatter\n",
    "import matplotlib.ticker as ticker\n",
    "from sklearn import preprocessing\n",
    "from sklearn.model_selection import train_test_split\n",
    "from sklearn import linear_model\n",
    "from sklearn.metrics import jaccard_similarity_score\n",
    "from sklearn import metrics"
   ]
  },
  {
   "cell_type": "markdown",
   "metadata": {},
   "source": [
    "## Data Inputting and cleaning\n",
    "\n",
    "Let's Load the DataFrame to see what we are going to be working with."
   ]
  },
  {
   "cell_type": "code",
   "execution_count": 3,
   "metadata": {},
   "outputs": [
    {
     "data": {
      "text/html": [
       "<div>\n",
       "<style scoped>\n",
       "    .dataframe tbody tr th:only-of-type {\n",
       "        vertical-align: middle;\n",
       "    }\n",
       "\n",
       "    .dataframe tbody tr th {\n",
       "        vertical-align: top;\n",
       "    }\n",
       "\n",
       "    .dataframe thead th {\n",
       "        text-align: right;\n",
       "    }\n",
       "</style>\n",
       "<table border=\"1\" class=\"dataframe\">\n",
       "  <thead>\n",
       "    <tr style=\"text-align: right;\">\n",
       "      <th></th>\n",
       "      <th>profit</th>\n",
       "      <th>people</th>\n",
       "      <th>price_of_beef</th>\n",
       "      <th>price_of_potato</th>\n",
       "      <th>sample</th>\n",
       "      <th>sunshine_index</th>\n",
       "      <th>marketing</th>\n",
       "    </tr>\n",
       "  </thead>\n",
       "  <tbody>\n",
       "    <tr>\n",
       "      <td>0</td>\n",
       "      <td>13.9</td>\n",
       "      <td>78</td>\n",
       "      <td>50</td>\n",
       "      <td>7.8</td>\n",
       "      <td>169</td>\n",
       "      <td>10</td>\n",
       "      <td>222</td>\n",
       "    </tr>\n",
       "    <tr>\n",
       "      <td>1</td>\n",
       "      <td>8.5</td>\n",
       "      <td>73</td>\n",
       "      <td>48</td>\n",
       "      <td>8.0</td>\n",
       "      <td>167</td>\n",
       "      <td>13</td>\n",
       "      <td>224</td>\n",
       "    </tr>\n",
       "    <tr>\n",
       "      <td>2</td>\n",
       "      <td>14.3</td>\n",
       "      <td>70</td>\n",
       "      <td>47</td>\n",
       "      <td>8.1</td>\n",
       "      <td>167</td>\n",
       "      <td>15</td>\n",
       "      <td>247</td>\n",
       "    </tr>\n",
       "    <tr>\n",
       "      <td>3</td>\n",
       "      <td>9.7</td>\n",
       "      <td>67</td>\n",
       "      <td>45</td>\n",
       "      <td>8.3</td>\n",
       "      <td>165</td>\n",
       "      <td>18</td>\n",
       "      <td>263</td>\n",
       "    </tr>\n",
       "    <tr>\n",
       "      <td>4</td>\n",
       "      <td>14.6</td>\n",
       "      <td>68</td>\n",
       "      <td>45</td>\n",
       "      <td>8.4</td>\n",
       "      <td>120</td>\n",
       "      <td>19</td>\n",
       "      <td>653</td>\n",
       "    </tr>\n",
       "  </tbody>\n",
       "</table>\n",
       "</div>"
      ],
      "text/plain": [
       "   profit  people  price_of_beef  price_of_potato  sample  sunshine_index  \\\n",
       "0    13.9      78             50              7.8     169              10   \n",
       "1     8.5      73             48              8.0     167              13   \n",
       "2    14.3      70             47              8.1     167              15   \n",
       "3     9.7      67             45              8.3     165              18   \n",
       "4    14.6      68             45              8.4     120              19   \n",
       "\n",
       "   marketing  \n",
       "0        222  \n",
       "1        224  \n",
       "2        247  \n",
       "3        263  \n",
       "4        653  "
      ]
     },
     "execution_count": 3,
     "metadata": {},
     "output_type": "execute_result"
    }
   ],
   "source": [
    "Res_df = pd.read_csv('restaurantprofit4.csv')\n",
    "Res_df_1 = Res_df[['profit','people','price_of_beef', 'price_of_potato','sample',\\\n",
    "                   'sunshine_index', 'marketing']]\n",
    "Res_df_1.head()"
   ]
  },
  {
   "cell_type": "markdown",
   "metadata": {},
   "source": [
    "## Data Assessment"
   ]
  },
  {
   "cell_type": "markdown",
   "metadata": {},
   "source": [
    "Let's make a histogram of our dependent variable __profit__ to see"
   ]
  },
  {
   "cell_type": "code",
   "execution_count": 4,
   "metadata": {},
   "outputs": [
    {
     "data": {
      "text/plain": [
       "Text(0, 0.5, 'Frequency')"
      ]
     },
     "execution_count": 4,
     "metadata": {},
     "output_type": "execute_result"
    },
    {
     "data": {
      "image/png": "[encoded data removed]",
      "text/plain": [
       "<Figure size 1080x504 with 1 Axes>"
      ]
     },
     "metadata": {
      "needs_background": "light"
     },
     "output_type": "display_data"
    }
   ],
   "source": [
    "plt.figure(figsize=(15, 7))\n",
    "sns.set_color_codes()\n",
    "sns.distplot(Res_df_1['profit'],kde=False, color=\"black\", bins= [0,10,20,30,40,50,60])\n",
    "plt.title('Histogram of Profits')\n",
    "plt.ylabel('Frequency')"
   ]
  },
  {
   "cell_type": "markdown",
   "metadata": {},
   "source": [
    "We can see __profits__ atleast is skewed to the right. This might be the case for other columns too, Let's have a look at a summary of our data."
   ]
  },
  {
   "cell_type": "code",
   "execution_count": 5,
   "metadata": {},
   "outputs": [
    {
     "data": {
      "text/html": [
       "<div>\n",
       "<style scoped>\n",
       "    .dataframe tbody tr th:only-of-type {\n",
       "        vertical-align: middle;\n",
       "    }\n",
       "\n",
       "    .dataframe tbody tr th {\n",
       "        vertical-align: top;\n",
       "    }\n",
       "\n",
       "    .dataframe thead th {\n",
       "        text-align: right;\n",
       "    }\n",
       "</style>\n",
       "<table border=\"1\" class=\"dataframe\">\n",
       "  <thead>\n",
       "    <tr style=\"text-align: right;\">\n",
       "      <th></th>\n",
       "      <th>profit</th>\n",
       "      <th>people</th>\n",
       "      <th>price_of_beef</th>\n",
       "      <th>price_of_potato</th>\n",
       "      <th>sample</th>\n",
       "      <th>sunshine_index</th>\n",
       "      <th>marketing</th>\n",
       "    </tr>\n",
       "  </thead>\n",
       "  <tbody>\n",
       "    <tr>\n",
       "      <td>count</td>\n",
       "      <td>198.000000</td>\n",
       "      <td>198.000000</td>\n",
       "      <td>198.000000</td>\n",
       "      <td>198.000000</td>\n",
       "      <td>198.000000</td>\n",
       "      <td>198.000000</td>\n",
       "      <td>198.000000</td>\n",
       "    </tr>\n",
       "    <tr>\n",
       "      <td>mean</td>\n",
       "      <td>17.515152</td>\n",
       "      <td>69.207071</td>\n",
       "      <td>43.601010</td>\n",
       "      <td>8.911111</td>\n",
       "      <td>46.479798</td>\n",
       "      <td>25.898990</td>\n",
       "      <td>356.353535</td>\n",
       "    </tr>\n",
       "    <tr>\n",
       "      <td>std</td>\n",
       "      <td>9.809292</td>\n",
       "      <td>12.044020</td>\n",
       "      <td>5.235315</td>\n",
       "      <td>0.874499</td>\n",
       "      <td>24.380801</td>\n",
       "      <td>4.989318</td>\n",
       "      <td>49.677909</td>\n",
       "    </tr>\n",
       "    <tr>\n",
       "      <td>min</td>\n",
       "      <td>7.000000</td>\n",
       "      <td>52.000000</td>\n",
       "      <td>35.000000</td>\n",
       "      <td>7.100000</td>\n",
       "      <td>4.000000</td>\n",
       "      <td>10.000000</td>\n",
       "      <td>222.000000</td>\n",
       "    </tr>\n",
       "    <tr>\n",
       "      <td>25%</td>\n",
       "      <td>11.525000</td>\n",
       "      <td>61.000000</td>\n",
       "      <td>40.000000</td>\n",
       "      <td>8.300000</td>\n",
       "      <td>34.250000</td>\n",
       "      <td>23.000000</td>\n",
       "      <td>345.000000</td>\n",
       "    </tr>\n",
       "    <tr>\n",
       "      <td>50%</td>\n",
       "      <td>14.500000</td>\n",
       "      <td>65.000000</td>\n",
       "      <td>42.000000</td>\n",
       "      <td>8.900000</td>\n",
       "      <td>48.000000</td>\n",
       "      <td>26.000000</td>\n",
       "      <td>352.000000</td>\n",
       "    </tr>\n",
       "    <tr>\n",
       "      <td>75%</td>\n",
       "      <td>18.600000</td>\n",
       "      <td>75.000000</td>\n",
       "      <td>47.000000</td>\n",
       "      <td>9.400000</td>\n",
       "      <td>53.750000</td>\n",
       "      <td>30.000000</td>\n",
       "      <td>358.750000</td>\n",
       "    </tr>\n",
       "    <tr>\n",
       "      <td>max</td>\n",
       "      <td>58.800000</td>\n",
       "      <td>100.000000</td>\n",
       "      <td>56.000000</td>\n",
       "      <td>11.900000</td>\n",
       "      <td>169.000000</td>\n",
       "      <td>35.000000</td>\n",
       "      <td>654.000000</td>\n",
       "    </tr>\n",
       "  </tbody>\n",
       "</table>\n",
       "</div>"
      ],
      "text/plain": [
       "           profit      people  price_of_beef  price_of_potato      sample  \\\n",
       "count  198.000000  198.000000     198.000000       198.000000  198.000000   \n",
       "mean    17.515152   69.207071      43.601010         8.911111   46.479798   \n",
       "std      9.809292   12.044020       5.235315         0.874499   24.380801   \n",
       "min      7.000000   52.000000      35.000000         7.100000    4.000000   \n",
       "25%     11.525000   61.000000      40.000000         8.300000   34.250000   \n",
       "50%     14.500000   65.000000      42.000000         8.900000   48.000000   \n",
       "75%     18.600000   75.000000      47.000000         9.400000   53.750000   \n",
       "max     58.800000  100.000000      56.000000        11.900000  169.000000   \n",
       "\n",
       "       sunshine_index   marketing  \n",
       "count      198.000000  198.000000  \n",
       "mean        25.898990  356.353535  \n",
       "std          4.989318   49.677909  \n",
       "min         10.000000  222.000000  \n",
       "25%         23.000000  345.000000  \n",
       "50%         26.000000  352.000000  \n",
       "75%         30.000000  358.750000  \n",
       "max         35.000000  654.000000  "
      ]
     },
     "execution_count": 5,
     "metadata": {},
     "output_type": "execute_result"
    }
   ],
   "source": [
    "Res_df_1.describe()"
   ]
  },
  {
   "cell_type": "markdown",
   "metadata": {},
   "source": [
    "Let's standardize the data and see their quintiles."
   ]
  },
  {
   "cell_type": "code",
   "execution_count": 21,
   "metadata": {},
   "outputs": [
    {
     "name": "stdout",
     "output_type": "stream",
     "text": [
      "Independent variables             0         1         2         3         4         5\n",
      "0    0.731917  1.225372 -1.273789  5.038012 -3.194683 -2.711348\n",
      "1    0.315720  0.842383 -1.044507  4.955773 -2.591874 -2.670987\n",
      "2    0.066003  0.650888 -0.929866  4.955773 -2.190002 -2.206831\n",
      "3   -0.183715  0.267899 -0.700584  4.873533 -1.587193 -1.883939\n",
      "4   -0.100476  0.267899 -0.585943  3.023140 -1.386257  5.986533\n",
      "..        ...       ...       ...       ...       ...       ...\n",
      "193 -0.683150 -1.072563  1.133672 -1.623403  0.020297 -1.419783\n",
      "194 -0.599911 -1.072563  1.362954 -1.664523  0.020297 -1.419783\n",
      "195 -0.683150 -1.072563  1.248313 -1.705643  0.221233 -1.379422\n",
      "196 -0.932868 -1.455553  1.821518 -1.746763 -0.180640 -1.419783\n",
      "197 -0.849629 -1.264058  1.248313 -1.746763 -0.180640 -1.500506\n",
      "\n",
      "[198 rows x 6 columns]\n",
      "Dependent Variable             0\n",
      "0   -0.369478\n",
      "1   -0.921372\n",
      "2   -0.328597\n",
      "3   -0.798729\n",
      "4   -0.297936\n",
      "..        ...\n",
      "193 -0.757848\n",
      "194  0.315279\n",
      "195 -0.451240\n",
      "196 -0.400139\n",
      "197 -0.001549\n",
      "\n",
      "[198 rows x 1 columns]\n"
     ]
    }
   ],
   "source": [
    "X = np.asarray(Res_df_1[['people','price_of_beef', 'price_of_potato','sample',\\\n",
    "                         'sunshine_index', 'marketing']])\n",
    "X = preprocessing.StandardScaler().fit(X).transform(X)\n",
    "Res_norm_df = pd.DataFrame(X)\n",
    "\n",
    "#Standardizing Dependent variables.\n",
    "Y = np.asarray(Res_df_1[['profit']])\n",
    "Y = preprocessing.StandardScaler().fit(Y).transform(Y)\n",
    "Res_norm_df_Y = pd.DataFrame(Y)\n",
    "print(\"Independent variables\",Res_norm_df)\n",
    "print(\"Dependent Variable\",Res_norm_df_Y)"
   ]
  },
  {
   "cell_type": "code",
   "execution_count": 7,
   "metadata": {},
   "outputs": [
    {
     "data": {
      "text/html": [
       "<div>\n",
       "<style scoped>\n",
       "    .dataframe tbody tr th:only-of-type {\n",
       "        vertical-align: middle;\n",
       "    }\n",
       "\n",
       "    .dataframe tbody tr th {\n",
       "        vertical-align: top;\n",
       "    }\n",
       "\n",
       "    .dataframe thead th {\n",
       "        text-align: right;\n",
       "    }\n",
       "</style>\n",
       "<table border=\"1\" class=\"dataframe\">\n",
       "  <thead>\n",
       "    <tr style=\"text-align: right;\">\n",
       "      <th></th>\n",
       "      <th>Names</th>\n",
       "      <th>50th Percentile</th>\n",
       "      <th>70th Percentile</th>\n",
       "      <th>90th Percentile</th>\n",
       "    </tr>\n",
       "  </thead>\n",
       "  <tbody>\n",
       "    <tr>\n",
       "      <td>0</td>\n",
       "      <td>profit</td>\n",
       "      <td>-0.308156</td>\n",
       "      <td>0.016848</td>\n",
       "      <td>1.467102</td>\n",
       "    </tr>\n",
       "    <tr>\n",
       "      <td>1</td>\n",
       "      <td>people</td>\n",
       "      <td>-0.350193</td>\n",
       "      <td>0.307397</td>\n",
       "      <td>1.730787</td>\n",
       "    </tr>\n",
       "    <tr>\n",
       "      <td>2</td>\n",
       "      <td>price_of_beef</td>\n",
       "      <td>-0.306585</td>\n",
       "      <td>0.267899</td>\n",
       "      <td>1.665810</td>\n",
       "    </tr>\n",
       "    <tr>\n",
       "      <td>3</td>\n",
       "      <td>price_of_potato</td>\n",
       "      <td>-0.012738</td>\n",
       "      <td>0.445826</td>\n",
       "      <td>1.133672</td>\n",
       "    </tr>\n",
       "    <tr>\n",
       "      <td>4</td>\n",
       "      <td>sample</td>\n",
       "      <td>0.062510</td>\n",
       "      <td>0.226990</td>\n",
       "      <td>0.321566</td>\n",
       "    </tr>\n",
       "    <tr>\n",
       "      <td>5</td>\n",
       "      <td>sunshine_index</td>\n",
       "      <td>0.020297</td>\n",
       "      <td>0.623105</td>\n",
       "      <td>1.225914</td>\n",
       "    </tr>\n",
       "    <tr>\n",
       "      <td>6</td>\n",
       "      <td>marketing</td>\n",
       "      <td>-0.087857</td>\n",
       "      <td>0.033227</td>\n",
       "      <td>0.533708</td>\n",
       "    </tr>\n",
       "  </tbody>\n",
       "</table>\n",
       "</div>"
      ],
      "text/plain": [
       "             Names  50th Percentile  70th Percentile  90th Percentile\n",
       "0           profit        -0.308156         0.016848         1.467102\n",
       "1           people        -0.350193         0.307397         1.730787\n",
       "2    price_of_beef        -0.306585         0.267899         1.665810\n",
       "3  price_of_potato        -0.012738         0.445826         1.133672\n",
       "4           sample         0.062510         0.226990         0.321566\n",
       "5   sunshine_index         0.020297         0.623105         1.225914\n",
       "6        marketing        -0.087857         0.033227         0.533708"
      ]
     },
     "execution_count": 7,
     "metadata": {},
     "output_type": "execute_result"
    }
   ],
   "source": [
    "#Creating a DataFrame with 50th, 70th and 90th Percentiles.\n",
    "p1=  [np.percentile(Y, 50)]\n",
    "p2 = [np.percentile(Y, 70)]\n",
    "p3 = [np.percentile(Y, 90)]\n",
    "for item in Res_norm_df:\n",
    "    q1 = np.percentile(Res_norm_df[item], 50)\n",
    "    p1.append(q1)\n",
    "    q2 = np.percentile(Res_norm_df[item], 70)\n",
    "    p2.append(q2)\n",
    "    q3 = np.percentile(Res_norm_df[item], 90)\n",
    "    p3.append(q3)\n",
    "quint_dic = {\"Names\":[\"profit\",\"people\", \"price_of_beef\", \"price_of_potato\",\"sample\",\\\n",
    "                      \"sunshine_index\", \"marketing\"], \"50th Percentile\":p1,\"70th Percentile\":p2\\\n",
    "            , \"90th Percentile\":p3}\n",
    "quint_df = pd.DataFrame(quint_dic)\n",
    "quint_df"
   ]
  },
  {
   "cell_type": "markdown",
   "metadata": {},
   "source": [
    "## Standardized Linear Regression\n",
    "\n",
    "Our dependent variable will be __profit__ and Independent variables are rest of them. Lets split our dataset into train and test sets, 80% of the entire data for training, and the 20% for testing. We create a mask to select random rows using __np.random.rand()__ function: "
   ]
  },
  {
   "cell_type": "code",
   "execution_count": 8,
   "metadata": {},
   "outputs": [],
   "source": [
    "#msk = np.random.rand(len(Res_df_1)) < 0.6\n",
    "msk = np.random.rand(len(Res_df_1)) < 0.8\n",
    "train_x = Res_norm_df[msk]\n",
    "test_x= Res_norm_df[~msk]\n",
    "train_y = Res_norm_df_Y[msk]\n",
    "test_y = Res_norm_df_Y[~msk]"
   ]
  },
  {
   "cell_type": "markdown",
   "metadata": {},
   "source": [
    "Let's now create linear regression models for every variable."
   ]
  },
  {
   "cell_type": "code",
   "execution_count": 9,
   "metadata": {
    "scrolled": true
   },
   "outputs": [
    {
     "data": {
      "text/plain": [
       "LinearRegression(copy_X=True, fit_intercept=True, n_jobs=None, normalize=False)"
      ]
     },
     "execution_count": 9,
     "metadata": {},
     "output_type": "execute_result"
    }
   ],
   "source": [
    "#Linear Regression with Independent Variable: people.\n",
    "regr_people = linear_model.LinearRegression()\n",
    "train_people = np.asanyarray(train_x[[0]])\n",
    "train_profit = np.asanyarray(train_y)\n",
    "regr_people.fit (train_people, train_profit)\n",
    "\n",
    "#Linear Regression with Independent Variable: price_of_beef.\n",
    "regr_price_of_beef = linear_model.LinearRegression()\n",
    "train_price_of_beef = np.asanyarray(train_x[[1]])\n",
    "regr_price_of_beef.fit (train_price_of_beef, train_profit)\n",
    "\n",
    "#Linear Regression with Independent Variable: price_of_potato.\n",
    "regr_price_of_potato = linear_model.LinearRegression()\n",
    "train_price_of_potato = np.asanyarray(train_x[[2]])\n",
    "regr_price_of_potato.fit (train_price_of_potato, train_profit)\n",
    "\n",
    "#Linear Regression with Independent Variable: sample.\n",
    "regr_sample = linear_model.LinearRegression()\n",
    "train_sample = np.asanyarray(train_x[[3]])\n",
    "regr_sample.fit (train_sample, train_profit)\n",
    "\n",
    "#Linear Regression with Independent Variable: sunshine_index.\n",
    "regr_sunshine_index = linear_model.LinearRegression()\n",
    "train_sunshine_index = np.asanyarray(train_x[[4]])\n",
    "regr_sunshine_index.fit (train_sunshine_index, train_profit)\n",
    "\n",
    "#Linear Regression with Independent Variable: marketing.\n",
    "regr_marketing = linear_model.LinearRegression()\n",
    "train_marketing = np.asanyarray(train_x[[5]])\n",
    "regr_marketing.fit (train_marketing, train_profit)"
   ]
  },
  {
   "cell_type": "markdown",
   "metadata": {},
   "source": [
    "Now that we have a Linear model with every Independent variable, let's make regression plots of Dependent variable with independent ones."
   ]
  },
  {
   "cell_type": "code",
   "execution_count": 10,
   "metadata": {},
   "outputs": [
    {
     "data": {
      "text/plain": [
       "Text(0.5, 0.98, 'Linear Regression plot of Profit with all other variables with 95% Confidence Interval')"
      ]
     },
     "execution_count": 10,
     "metadata": {},
     "output_type": "execute_result"
    },
    {
     "data": {
      "image/png": "[encoded data removed]",
      "text/plain": [
       "<Figure size 1008x720 with 6 Axes>"
      ]
     },
     "metadata": {
      "needs_background": "light"
     },
     "output_type": "display_data"
    }
   ],
   "source": [
    "f, axes = plt.subplots(2,3,figsize=(14,10))\n",
    "sns.regplot(x=train_x[0],y=train_y[0],color='green',ax=axes[0,0])\n",
    "axes[0,0].set(xlabel=\"People\",ylabel=\"Profit\")\n",
    "sns.regplot(x=train_x[1],y=train_y[0],color='red',ax=axes[0,1])\n",
    "axes[0,1].set(xlabel=\"Price of beef\",ylabel=\"Profit\")\n",
    "sns.regplot(x=train_x[2],y=train_y[0],color='blue',ax=axes[0,2])\n",
    "axes[0,2].set(xlabel=\"Price of Potato\",ylabel=\"Profit\")\n",
    "sns.regplot(x=train_x[3],y=train_y[0],color='purple',ax=axes[1,0])\n",
    "axes[1,0].set(xlabel=\"Sample\",ylabel=\"Profit\")\n",
    "sns.regplot(x=train_x[4],y=train_y[0],color='brown',ax=axes[1,1])\n",
    "axes[1,1].set(xlabel=\"Sunshine Index\",ylabel=\"Profit\")\n",
    "sns.regplot(x=train_x[5],y=train_y[0],color='gold',ax=axes[1,2])\n",
    "axes[1,2].set(xlabel=\"Marketing\",ylabel=\"Profit\")\n",
    "f. tight_layout(pad=3.0)\n",
    "f.suptitle('Linear Regression plot of Profit with all other variables with 95% Confidence Interval')"
   ]
  },
  {
   "cell_type": "markdown",
   "metadata": {},
   "source": [
    "We will now test the accuracy of our model. This is done by making a prediction about dependent variables with our test data and compare it with actual values."
   ]
  },
  {
   "cell_type": "code",
   "execution_count": 11,
   "metadata": {
    "scrolled": true
   },
   "outputs": [
    {
     "name": "stdout",
     "output_type": "stream",
     "text": [
      "People:Mean Absolute Error 0.47820882163928086\n",
      "People:Mean Squared Error 0.38825999139293565\n",
      "People:Root Mean Squared Error 0.6231051206601785\n",
      "Price of beef:Mean Absolute Error 0.5571269505225812\n",
      "Price of beef:Mean Squared Error 0.5321807661903998\n",
      "Price of beef:Root Mean Squared Error 0.729507207771383\n",
      "Price of potato:Mean Absolute Error 0.7450038871649031\n",
      "Price of potato:Mean Squared Error 0.997841009887168\n",
      "Price of potato:Root Mean Squared Error 0.9989199216589726\n",
      "Sample:Mean Absolute Error 0.8227546926491055\n",
      "Sample:Mean Squared Error 1.396457611493001\n",
      "Sample:Root Mean Squared Error 1.1817180761471837\n",
      "Sunshine Index:Mean Absolute Error 0.8347793565892939\n",
      "Sunshine Index:Mean Squared Error 1.1818606948722383\n",
      "Sunshine Index:Root Mean Squared Error 1.0871341659943534\n",
      "Marketing:Mean Absolute Error 0.7398021715241652\n",
      "Marketing:Mean Squared Error 1.0066040995402865\n",
      "Marketing:Root Mean Squared Error 1.0032966159318422\n"
     ]
    }
   ],
   "source": [
    "# Each independent variable trying to capture profit.\n",
    "Yhat_people = regr_people.predict(test_x[[0]])\n",
    "Yhat_price_of_beef = regr_people.predict(test_x[[1]])\n",
    "Yhat_price_of_potato = regr_people.predict(test_x[[2]])\n",
    "Yhat_sample = regr_people.predict(test_x[[3]])\n",
    "Yhat_sunshine_index = regr_people.predict(test_x[[4]])\n",
    "Yhat_marketing = regr_people.predict(test_x[[5]])\n",
    "\n",
    "#Independent variable evaluation: People.\n",
    "print('People:Mean Absolute Error', metrics.mean_absolute_error(test_y, Yhat_people))  \n",
    "print('People:Mean Squared Error', metrics.mean_squared_error(test_y, Yhat_people))  \n",
    "print('People:Root Mean Squared Error', np.sqrt(metrics.mean_squared_error(test_y, Yhat_people)))\n",
    "\n",
    "#Independent variable evaluation: Price of beef.\n",
    "print('Price of beef:Mean Absolute Error', metrics.mean_absolute_error(test_y, Yhat_price_of_beef))  \n",
    "print('Price of beef:Mean Squared Error', metrics.mean_squared_error(test_y, Yhat_price_of_beef))  \n",
    "print('Price of beef:Root Mean Squared Error', np.sqrt(metrics.mean_squared_error\\\n",
    "                                                       (test_y,Yhat_price_of_beef)))\n",
    "#Independent variable evaluation: Price of Potato.\n",
    "print('Price of potato:Mean Absolute Error', metrics.mean_absolute_error(test_y, Yhat_price_of_potato))  \n",
    "print('Price of potato:Mean Squared Error', metrics.mean_squared_error(test_y, Yhat_price_of_potato))  \n",
    "print('Price of potato:Root Mean Squared Error', np.sqrt(metrics.mean_squared_error\\\n",
    "                                                         (test_y, Yhat_price_of_potato)))\n",
    "\n",
    "#Independent variable evaluation: Sample.\n",
    "print('Sample:Mean Absolute Error', metrics.mean_absolute_error(test_y, Yhat_sample))  \n",
    "print('Sample:Mean Squared Error', metrics.mean_squared_error(test_y, Yhat_sample))  \n",
    "print('Sample:Root Mean Squared Error', np.sqrt(metrics.mean_squared_error(test_y, Yhat_sample)))\n",
    "\n",
    "#Independent variable evaluation: Sunshine Index.\n",
    "print('Sunshine Index:Mean Absolute Error', metrics.mean_absolute_error(test_y, Yhat_sunshine_index))  \n",
    "print('Sunshine Index:Mean Squared Error', metrics.mean_squared_error(test_y, Yhat_sunshine_index))  \n",
    "print('Sunshine Index:Root Mean Squared Error', np.sqrt(metrics.mean_squared_error\\\n",
    "                                                        (test_y, Yhat_sunshine_index)))\n",
    "\n",
    "#Independent variable evaluation: Marketing.\n",
    "print('Marketing:Mean Absolute Error', metrics.mean_absolute_error(test_y, Yhat_marketing))  \n",
    "print('Marketing:Mean Squared Error', metrics.mean_squared_error(test_y, Yhat_marketing))  \n",
    "print('Marketing:Root Mean Squared Error', np.sqrt(metrics.mean_squared_error\\\n",
    "                                                   (test_y, Yhat_marketing)))"
   ]
  },
  {
   "cell_type": "markdown",
   "metadata": {},
   "source": [
    "As we can see, All of 6 __Root Mean Squared Errors__ are very high. Clearly none of independent variables predict profit quite right individually. "
   ]
  },
  {
   "cell_type": "markdown",
   "metadata": {},
   "source": [
    "## Multiple Linear Regression\n",
    "\n",
    "Let's use all independent variables together to capture Profit."
   ]
  },
  {
   "cell_type": "code",
   "execution_count": 12,
   "metadata": {},
   "outputs": [
    {
     "name": "stdout",
     "output_type": "stream",
     "text": [
      "Coefficients: [[ 1.67239594 -1.24631249 -0.20575029 -0.16784489 -0.12300891  0.04456649]]\n"
     ]
    }
   ],
   "source": [
    "regr_multi = linear_model.LinearRegression()\n",
    "regr_multi.fit (train_x, train_y)\n",
    "# The coefficients\n",
    "print ('Coefficients:', regr_multi.coef_)"
   ]
  },
  {
   "cell_type": "markdown",
   "metadata": {},
   "source": [
    "Let's predict variable profit using this model."
   ]
  },
  {
   "cell_type": "code",
   "execution_count": 13,
   "metadata": {},
   "outputs": [
    {
     "data": {
      "text/plain": [
       "array([[-1.18049058],\n",
       "       [-0.3737166 ],\n",
       "       [-0.39144007],\n",
       "       [-0.27111025],\n",
       "       [-0.41953821]])"
      ]
     },
     "execution_count": 13,
     "metadata": {},
     "output_type": "execute_result"
    }
   ],
   "source": [
    "Yhat_multi=regr_multi.predict(test_x)\n",
    "Yhat_multi[0:5]"
   ]
  },
  {
   "cell_type": "markdown",
   "metadata": {},
   "source": [
    "Let's evaluate this model and see if it performs any better than previous ones. "
   ]
  },
  {
   "cell_type": "code",
   "execution_count": 14,
   "metadata": {},
   "outputs": [
    {
     "name": "stdout",
     "output_type": "stream",
     "text": [
      "Mean Absolute Error 0.4361373867617949\n",
      "Mean Squared Error 0.3216443826122759\n",
      "Root Mean Squared Error 0.5671370051515559\n"
     ]
    }
   ],
   "source": [
    "print('Mean Absolute Error', metrics.mean_absolute_error(test_y, Yhat_multi))  \n",
    "print('Mean Squared Error', metrics.mean_squared_error(test_y, Yhat_multi))  \n",
    "print('Root Mean Squared Error', np.sqrt(metrics.mean_squared_error(test_y, Yhat_multi)))"
   ]
  },
  {
   "cell_type": "markdown",
   "metadata": {},
   "source": [
    "A much lower __Root Mean Squared Error__! Multiple linear model proves to be more succesfull in predicting profit. \n",
    "I tried changing training set from consisting 80% of data to 60% to see how it affects my prediction.\n",
    "This is the output i got:\n",
    "\n",
    "|  Method       | Score                                                         |        \n",
    "|------------------|---------                                                             |\n",
    "| Mean Absolute Error           | 0.5059939882586635                           |\n",
    "| Mean Squared Error    | 0.42372684457000237                         |\n",
    "| Root Mean Squared Error  | 0.6509430424929683                    |\n"
   ]
  },
  {
   "cell_type": "markdown",
   "metadata": {},
   "source": [
    "As it can be seen, __Root Mean Squared Error__ has decreased. This isn't neccessarily a good thing as a high training accuracy could indicate over-fitting."
   ]
  },
  {
   "cell_type": "markdown",
   "metadata": {},
   "source": [
    "__What is correlation between people and profit? What does it look like?__"
   ]
  },
  {
   "cell_type": "code",
   "execution_count": 15,
   "metadata": {},
   "outputs": [
    {
     "data": {
      "text/plain": [
       "array([[1.        , 0.68148666],\n",
       "       [0.68148666, 1.        ]])"
      ]
     },
     "execution_count": 15,
     "metadata": {},
     "output_type": "execute_result"
    }
   ],
   "source": [
    "# Calculating correlation matrix.\n",
    "np.corrcoef(Res_df_1['people'], Res_df_1['profit'])"
   ]
  },
  {
   "cell_type": "markdown",
   "metadata": {},
   "source": [
    "Main diagonals are of value 1 as expected. Off diagonal values show correlatipn which takes a value of __0.68148666__.\n",
    "\n",
    "Let's now make a scatter plot between our variables to visualize this correlation."
   ]
  },
  {
   "cell_type": "code",
   "execution_count": 327,
   "metadata": {},
   "outputs": [
    {
     "data": {
      "text/plain": [
       "Text(0.5, 1.0, 'Relationship between Profit and People')"
      ]
     },
     "execution_count": 327,
     "metadata": {},
     "output_type": "execute_result"
    },
    {
     "data": {
      "image/png": "[encoded data removed]",
      "text/plain": [
       "<Figure size 1008x504 with 1 Axes>"
      ]
     },
     "metadata": {},
     "output_type": "display_data"
    }
   ],
   "source": [
    "plt.figure(figsize=(14, 7))\n",
    "ax = sns.scatterplot(x=\"people\", y=\"profit\", data=Res_df_1)\n",
    "plt.title('Relationship between Profit and People')"
   ]
  }
 ],
 "metadata": {
  "kernelspec": {
   "display_name": "Python 3",
   "language": "python",
   "name": "python3"
  },
  "language_info": {
   "codemirror_mode": {
    "name": "ipython",
    "version": 3
   },
   "file_extension": ".py",
   "mimetype": "text/x-python",
   "name": "python",
   "nbconvert_exporter": "python",
   "pygments_lexer": "ipython3",
   "version": "3.7.4"
  }
 },
 "nbformat": 4,
 "nbformat_minor": 2
}
